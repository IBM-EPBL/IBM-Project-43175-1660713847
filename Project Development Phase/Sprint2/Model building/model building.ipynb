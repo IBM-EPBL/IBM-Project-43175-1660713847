{
  "nbformat": 4,
  "nbformat_minor": 0,
  "metadata": {
    "colab": {
      "provenance": []
    },
    "kernelspec": {
      "name": "python3",
      "display_name": "Python 3"
    },
    "language_info": {
      "name": "python"
    }
  },
  "cells": [
    {
      "cell_type": "code",
      "source": [
        "from google.colab import drive\n",
        "drive.mount('/content/drive')"
      ],
      "metadata": {
        "colab": {
          "base_uri": "https://localhost:8080/"
        },
        "id": "xWjcZdBN09C6",
        "outputId": "d71c6493-8ffb-437d-abd3-56cc54af2bec"
      },
      "execution_count": null,
      "outputs": [
        {
          "output_type": "stream",
          "name": "stdout",
          "text": [
            "Mounted at /content/drive\n"
          ]
        }
      ]
    },
    {
      "cell_type": "markdown",
      "source": [
        "Import The ImageDataGenerator Library"
      ],
      "metadata": {
        "id": "UG35gxFMyus_"
      }
    },
    {
      "cell_type": "code",
      "execution_count": null,
      "metadata": {
        "id": "URjg5Nsfscrk"
      },
      "outputs": [],
      "source": [
        "from tensorflow.keras.preprocessing.image import ImageDataGenerator"
      ]
    },
    {
      "cell_type": "markdown",
      "source": [
        "Configure ImageDataGenerator Class"
      ],
      "metadata": {
        "id": "X_iTYtCrzI0n"
      }
    },
    {
      "cell_type": "code",
      "source": [
        "train_data = ImageDataGenerator(rescale=1./255,zoom_range=0.2,horizontal_flip=True)\n",
        "                            "
      ],
      "metadata": {
        "id": "Cim3ToyDzcUv"
      },
      "execution_count": null,
      "outputs": []
    },
    {
      "cell_type": "code",
      "source": [
        "test_data = ImageDataGenerator(rescale=1./255)"
      ],
      "metadata": {
        "id": "sRn_eMlwzUAv"
      },
      "execution_count": null,
      "outputs": []
    },
    {
      "cell_type": "markdown",
      "source": [
        "Apply ImageDataGenerator Functionality To Trainset And Testset"
      ],
      "metadata": {
        "id": "aKH3qNUx0RiW"
      }
    },
    {
      "cell_type": "code",
      "source": [
        "x_train=train_data.flow_from_directory(r\"/content/drive/MyDrive/Data set/Classification of Arrhythmia by Using Deep Learning with 2-D ECG Spectral Image Representation/data/train\",target_size=(64,64),class_mode=\"categorical\",batch_size=24)"
      ],
      "metadata": {
        "colab": {
          "base_uri": "https://localhost:8080/"
        },
        "id": "_oEFugkg15S2",
        "outputId": "96732f92-eda1-4f40-f1e7-524c1563c1d7"
      },
      "execution_count": null,
      "outputs": [
        {
          "output_type": "stream",
          "name": "stdout",
          "text": [
            "Found 662 images belonging to 6 classes.\n"
          ]
        }
      ]
    },
    {
      "cell_type": "code",
      "source": [
        "x_test = test_data.flow_from_directory('/content/drive/MyDrive/Data set/Classification of Arrhythmia by Using Deep Learning with 2-D ECG Spectral Image Representation/data/test',target_size=(64,64),class_mode='categorical',batch_size=100)"
      ],
      "metadata": {
        "colab": {
          "base_uri": "https://localhost:8080/"
        },
        "id": "4MkVDhIp2UXt",
        "outputId": "a833a099-4094-4521-fee8-3ea386bffa51"
      },
      "execution_count": null,
      "outputs": [
        {
          "output_type": "stream",
          "name": "stdout",
          "text": [
            "Found 0 images belonging to 6 classes.\n"
          ]
        }
      ]
    },
    {
      "cell_type": "markdown",
      "source": [
        "Importing the libraries"
      ],
      "metadata": {
        "id": "_8GIFPpAoWi5"
      }
    },
    {
      "cell_type": "code",
      "source": [
        "import numpy as np"
      ],
      "metadata": {
        "id": "CtNMm7wGodLp"
      },
      "execution_count": null,
      "outputs": []
    },
    {
      "cell_type": "code",
      "source": [
        "from tensorflow.keras.models import Sequential\n",
        "from tensorflow.keras.layers import Dense\n",
        "from tensorflow.keras.layers import Convolution2D\n",
        "from tensorflow.keras.layers import MaxPooling2D\n",
        "from tensorflow.keras.layers import Flatten"
      ],
      "metadata": {
        "id": "omYRFMpJoqXJ"
      },
      "execution_count": null,
      "outputs": []
    },
    {
      "cell_type": "markdown",
      "source": [
        "Adding CNN layer"
      ],
      "metadata": {
        "id": "jR67ad21ox4g"
      }
    },
    {
      "cell_type": "code",
      "source": [
        "model = Sequential()"
      ],
      "metadata": {
        "id": "sG4r6bt5o2jX"
      },
      "execution_count": null,
      "outputs": []
    },
    {
      "cell_type": "code",
      "source": [
        "model.add(Convolution2D(32,(3,3),input_shape = (64,64,3),activation = \"relu\"))"
      ],
      "metadata": {
        "id": "bv32qZM-o7oe"
      },
      "execution_count": null,
      "outputs": []
    },
    {
      "cell_type": "code",
      "source": [
        "model.add(MaxPooling2D(pool_size = (2,2)))"
      ],
      "metadata": {
        "id": "46UIZgr_o8IA"
      },
      "execution_count": null,
      "outputs": []
    },
    {
      "cell_type": "code",
      "source": [
        "model.add(Convolution2D(32, (3,3), activation='relu'))"
      ],
      "metadata": {
        "id": "GVGEiUz9o9AM"
      },
      "execution_count": null,
      "outputs": []
    },
    {
      "cell_type": "code",
      "source": [
        "model.add(MaxPooling2D(pool_size=(2,2)))"
      ],
      "metadata": {
        "id": "6IZwrZNapPxM"
      },
      "execution_count": null,
      "outputs": []
    },
    {
      "cell_type": "code",
      "source": [
        "model.add(Flatten()) #Flatten the dimensions of the image"
      ],
      "metadata": {
        "id": "7qSQHR7HpSWg"
      },
      "execution_count": null,
      "outputs": []
    },
    {
      "cell_type": "markdown",
      "source": [
        "Adding Dense Layers"
      ],
      "metadata": {
        "id": "tquqOWmTpZI-"
      }
    },
    {
      "cell_type": "code",
      "source": [
        "model.add(Dense(units = 128,kernel_initializer = \"random_uniform\", activation = \"relu\"))\n"
      ],
      "metadata": {
        "id": "1A0rzAzHpbFs"
      },
      "execution_count": null,
      "outputs": []
    },
    {
      "cell_type": "code",
      "source": [
        "model.add(Dense (32)) # Deeply connected neural network layers model.add(Dense(6, activation='softmax')) #Output layer with 6 neurons"
      ],
      "metadata": {
        "id": "us6zTYBppksR"
      },
      "execution_count": null,
      "outputs": []
    },
    {
      "cell_type": "markdown",
      "source": [
        "Configure The Learning Process"
      ],
      "metadata": {
        "id": "K3-PIL_Mppqf"
      }
    },
    {
      "cell_type": "code",
      "source": [
        "model.compile(optimizer='adam',loss='categorical_crossentropy',metrics=['accuracy'])"
      ],
      "metadata": {
        "id": "cIx2dn2Bpr4T"
      },
      "execution_count": null,
      "outputs": []
    },
    {
      "cell_type": "markdown",
      "source": [
        "Save The Model"
      ],
      "metadata": {
        "id": "cVV-3NEwsnl4"
      }
    },
    {
      "cell_type": "code",
      "source": [
        "#saving model\n",
        "model.save('ECG.h5')"
      ],
      "metadata": {
        "id": "e_9AAaC-sxOq"
      },
      "execution_count": null,
      "outputs": []
    },
    {
      "cell_type": "markdown",
      "source": [
        "Test The Model"
      ],
      "metadata": {
        "id": "jkhe3i_etWDl"
      }
    },
    {
      "cell_type": "code",
      "source": [
        "from tensorflow.keras.models import load_model\n",
        "from tensorflow.keras.preprocessing import image"
      ],
      "metadata": {
        "id": "8DN_JzUWt0wb"
      },
      "execution_count": null,
      "outputs": []
    },
    {
      "cell_type": "code",
      "source": [
        "model=load_model('ECG.h5')"
      ],
      "metadata": {
        "id": "mh3TLEBNumS1"
      },
      "execution_count": null,
      "outputs": []
    },
    {
      "cell_type": "code",
      "source": [
        "img=image.load_img(\"/content/drive/MyDrive/photo/fig_21.png\",target_size=(64,64))"
      ],
      "metadata": {
        "id": "sEuWKoOz32Gg"
      },
      "execution_count": null,
      "outputs": []
    },
    {
      "cell_type": "code",
      "source": [
        "x=image.img_to_array(img)"
      ],
      "metadata": {
        "id": "5z_TK6dR6KOy"
      },
      "execution_count": null,
      "outputs": []
    },
    {
      "cell_type": "code",
      "source": [
        "img"
      ],
      "metadata": {
        "colab": {
          "base_uri": "https://localhost:8080/",
          "height": 81
        },
        "id": "vqCzQyp_6T3b",
        "outputId": "31f70941-78f7-4124-8868-e238c7e5338d"
      },
      "execution_count": null,
      "outputs": [
        {
          "output_type": "execute_result",
          "data": {
            "text/plain": [
              "<PIL.Image.Image image mode=RGB size=64x64 at 0x7F143222B4D0>"
            ],
            "image/png": "[encoded data removed]"
          },
          "metadata": {},
          "execution_count": 6
        }
      ]
    },
    {
      "cell_type": "code",
      "source": [
        "import numpy as np"
      ],
      "metadata": {
        "id": "XoWrvJXV6byf"
      },
      "execution_count": null,
      "outputs": []
    },
    {
      "cell_type": "code",
      "source": [
        "x=np.expand_dims(x,axis=0)"
      ],
      "metadata": {
        "id": "oj33PUNw6guU"
      },
      "execution_count": null,
      "outputs": []
    },
    {
      "cell_type": "code",
      "source": [
        "pred = Model.predict(x)\n",
        "y_pred=np.argmax(pred)\n",
        "y_pred"
      ],
      "metadata": {
        "id": "9Ri7ql5ZomDs"
      },
      "execution_count": null,
      "outputs": []
    },
    {
      "cell_type": "code",
      "source": [
        "index=['left bundle branch block','normal','premature Atrial Contraction','Premature Ventricular contraction','Right bundle branch block','Ventricular fibrillation']"
      ],
      "metadata": {
        "id": "9Qs_7-R7mphV"
      },
      "execution_count": 3,
      "outputs": []
    },
    {
      "cell_type": "code",
      "source": [
        "result = str(index[y_pred])\n",
        "result"
      ],
      "metadata": {
        "id": "djOrubRloiAd"
      },
      "execution_count": null,
      "outputs": []
    },
    {
      "cell_type": "code",
      "source": [
        "'Right Bundle Branch Block'"
      ],
      "metadata": {
        "id": "DLVyxeFJoqo6"
      },
      "execution_count": null,
      "outputs": []
    }
  ]
}